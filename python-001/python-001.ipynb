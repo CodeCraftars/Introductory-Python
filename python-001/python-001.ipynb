{
 "cells": [
  {
   "cell_type": "markdown",
   "id": "9f483697",
   "metadata": {},
   "source": [
    "This notebook covers the fundamentals of python from a technical perspective\n",
    "\n",
    "### Table of contents\n",
    "- Introduction\n",
    "- Definition of terms in commonly used in programming\n",
    "- \n",
    "\n",
    "\n",
    "### A program's workflow\n",
    "\n",
    "![programming workflow](./programming-workflow.drawio.png)\n",
    "\n",
    "A typical programming workflow is shown in the image above, where the system takes in input data from multiple sources including a keyboard, network, or a file, then performs a set of instructions on them which are typically mathematical, \n"
   ]
  },
  {
   "cell_type": "code",
   "execution_count": 1,
   "id": "14a5e4a3",
   "metadata": {},
   "outputs": [
    {
     "name": "stdout",
     "output_type": "stream",
     "text": [
      "+ - - - - + - - - - +\n",
      "|         |         |\n",
      "|         |         |\n",
      "|         |         |\n",
      "|         |         |\n",
      "+ - - - - + - - - - +\n",
      "|         |         |\n",
      "|         |         |\n",
      "|         |         |\n",
      "|         |         |\n",
      "+ - - - - + - - - - +\n"
     ]
    }
   ],
   "source": [
    "# exercise 3-3: might be ugly but this is the only solution i can think of right now\n",
    "\n",
    "ops1 = \"+ - - - - + - - - - +\"\n",
    "ops2 = \"|         |         |\"\n",
    "\n",
    "\n",
    "def repeat(op):\n",
    "    for _ in range(4):\n",
    "        print(op)\n",
    "    \n",
    "def print_ops(op1, op2):\n",
    "    index = 0\n",
    "    while index < 2:\n",
    "        print(op1)\n",
    "        repeat(op2)\n",
    "        index += 1\n",
    "    print(op1)\n",
    "    \n",
    "print_ops(ops1, ops2)"
   ]
  },
  {
   "cell_type": "code",
   "execution_count": 2,
   "id": "3c43bb5e",
   "metadata": {},
   "outputs": [
    {
     "name": "stdout",
     "output_type": "stream",
     "text": [
      "+ - - - - + - - - - +\n",
      "|         |         |\n",
      "|         |         |\n",
      "|         |         |\n",
      "|         |         |\n",
      "+ - - - - + - - - - +\n",
      "|         |         |\n",
      "|         |         |\n",
      "|         |         |\n",
      "|         |         |\n",
      "+ - - - - + - - - - +\n"
     ]
    }
   ],
   "source": [
    "# another solution to exercise 3-3\n",
    "\n",
    "def repeat_(op1, op2):\n",
    "    for _ in range(2):\n",
    "        print(op1)\n",
    "        for _ in range(4):\n",
    "            print(op2)\n",
    "    print(op1)\n",
    "            \n",
    "repeat_(ops1, ops2)"
   ]
  },
  {
   "cell_type": "markdown",
   "id": "a174f60a",
   "metadata": {},
   "source": [
    "### Recursion"
   ]
  },
  {
   "cell_type": "markdown",
   "id": "c6d65d2c",
   "metadata": {},
   "source": [
    "Then write a function called do_n that takes a function object and a number, n, as\n",
    "arguments, and that calls the given function n times."
   ]
  },
  {
   "cell_type": "code",
   "execution_count": 80,
   "id": "94c0f3df",
   "metadata": {},
   "outputs": [
    {
     "name": "stdout",
     "output_type": "stream",
     "text": [
      "76.1 ns ± 0.958 ns per loop (mean ± std. dev. of 7 runs, 10,000,000 loops each)\n"
     ]
    }
   ],
   "source": [
    "%%timeit\n",
    "\n",
    "def print_val():\n",
    "    return \"hello\"\n",
    "\n",
    "def do_n(fn, n):\n",
    "    if n <= 0:\n",
    "        return\n",
    "    print(fn)\n",
    "    do_n(fn, n-1)\n"
   ]
  },
  {
   "cell_type": "code",
   "execution_count": 82,
   "id": "fc55a71b",
   "metadata": {},
   "outputs": [
    {
     "name": "stdout",
     "output_type": "stream",
     "text": [
      "hello\n",
      "hello\n"
     ]
    }
   ],
   "source": [
    "do_n(print_val(), 2)"
   ]
  },
  {
   "cell_type": "code",
   "execution_count": 83,
   "id": "fbe81bc7",
   "metadata": {},
   "outputs": [
    {
     "name": "stdout",
     "output_type": "stream",
     "text": [
      "34.9 ns ± 0.0277 ns per loop (mean ± std. dev. of 7 runs, 10,000,000 loops each)\n"
     ]
    }
   ],
   "source": [
    "%%timeit\n",
    "def do_n_no_recurs(fn, n):\n",
    "    if n <= 0:\n",
    "        return \n",
    "    for _ in range(n):\n",
    "        fn()"
   ]
  },
  {
   "cell_type": "code",
   "execution_count": 28,
   "id": "82648e16",
   "metadata": {},
   "outputs": [
    {
     "name": "stdout",
     "output_type": "stream",
     "text": [
      "hello\n",
      "hello\n"
     ]
    }
   ],
   "source": [
    "do_n_no_recurs(print_val, 2)"
   ]
  }
 ],
 "metadata": {
  "kernelspec": {
   "display_name": "Python 3 (ipykernel)",
   "language": "python",
   "name": "python3"
  },
  "language_info": {
   "codemirror_mode": {
    "name": "ipython",
    "version": 3
   },
   "file_extension": ".py",
   "mimetype": "text/x-python",
   "name": "python",
   "nbconvert_exporter": "python",
   "pygments_lexer": "ipython3",
   "version": "3.10.6"
  }
 },
 "nbformat": 4,
 "nbformat_minor": 5
}
