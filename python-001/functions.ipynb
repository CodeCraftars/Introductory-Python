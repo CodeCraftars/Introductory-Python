{
 "cells": [
  {
   "cell_type": "markdown",
   "metadata": {},
   "source": [
    "## Functions\n",
    "\n",
    "\n",
    "Functions are a really useful tool in Python programming. A function is like a little machine - you give it some input, and it processes that input to produce some output.\n",
    "\n",
    "To use a function, you need to:\n",
    "\n",
    "1. __Define it__ - Give your function a name, and write the code inside it that describes what you want it to do.\n",
    "2. __Call it__ - Use the function's name to run the code inside. You can call a function as many times as you want.\n",
    "\n",
    "\n",
    "Defining a function lets you package up pieces of code that you want to reuse. Instead of writing the same code over and over, you write it once in a function and then call the function whenever you need that code.\n",
    "\n",
    "Some key ideas:\n",
    "\n",
    "- Functions have names that you make up - be descriptive!\n",
    "- The code inside a function is run whenever you call the function.\n",
    "- You can pass input values into a function to customize its behavior.\n",
    "- Functions let you break programs down into reusable pieces.\n",
    "\n",
    "\n",
    "Essentially, functions are named blocks of code that you can call whenever you need to perform a specific task in your program. They are super helpful for organizing your code."
   ]
  },
  {
   "cell_type": "markdown",
   "metadata": {},
   "source": [
    "#### Function Calls\n",
    "\n",
    "\n",
    "When you're first learning about functions in Python, it can be helpful to see how to call them before diving into how to define your own. Calling a function is using one that's already been defined.\n",
    "\n",
    "Seeing a function call in action gives you a feel for how they work in Python before you learn how to write your own functions.\n",
    "\n",
    "\n",
    "For example, we use the built-in `type()` function which takes a value and returns the data type of the value you pass to it.\n",
    "\n",
    "To call `type()`, you would do:\n",
    "\n",
    "`>>> type(5)`\n",
    "\n",
    "This would output:\n",
    "\n",
    "`>>> <class 'int'>`\n",
    "\n",
    "Because 5 is an integer.\n",
    "\n",
    "Some key points:\n",
    "\n",
    "- Calling a function like `type()` runs the code inside it.\n",
    "- To call it, you just type the name of the function with parentheses after it.\n",
    "- What's inside the parentheses is the input value you want to pass to the function.\n",
    "- Calling built-in functions like `type()` shows how functions work in Python.\n",
    "\n",
    "__Quiz__:\n",
    "\n",
    "There are a ton of built-in functions like `len()`, `range()`, `int()`, etc. Call any of these functions as described in this section and get a feel of how function calls work!"
   ]
  },
  {
   "cell_type": "markdown",
   "metadata": {},
   "source": [
    "#### Creating Functions\n",
    "\n",
    "Up until now, we have only used functions that are built into Python. But you can also create your own functions! To make your own function, you need to give it a name and then write the code that you want it to run when someone calls the function. This lets you bundle together useful blocks of code that can be easily reused. Defining your own functions is a key part of writing cleaner and more organized programs in Python."
   ]
  },
  {
   "cell_type": "code",
   "execution_count": 3,
   "metadata": {},
   "outputs": [],
   "source": [
    "def greeting(name):\n",
    "  print(\"Hi, \" + name + \"! Hope you are having a good saturday.\")"
   ]
  },
  {
   "cell_type": "code",
   "execution_count": 4,
   "metadata": {},
   "outputs": [
    {
     "name": "stdout",
     "output_type": "stream",
     "text": [
      "Hi, chief! Hope you are having a good saturday.\n"
     ]
    }
   ],
   "source": [
    "greeting('chief')"
   ]
  },
  {
   "cell_type": "markdown",
   "metadata": {},
   "source": [
    "Here are a few points to note about\n",
    "\n",
    "- `def` is a keyword that indicates you are defining a function\n",
    "\n",
    "- The first line of the function definition is called the __header__, while the rest is called the __body__. The __header__ also has to end with a colon and the __body__ has to be indented four times by convention.\n",
    "\n",
    "\n",
    "- The function name follows `def`, and in this case, it is called `greeting`. A few rules for naming functions are:\n",
    "  - It must follow the same naming rules as variables names, i.e. letters, numbers, and underscore are legal.\n",
    "\n",
    "  - It is illegal to use keywords as function names.\n",
    "  \n",
    "  - Avoid having a varible and a function with the same name.\n",
    "\n",
    "- The parentheses after the name can contain arguments that are passed to the function. Empty parentheses mean the function doesn't take any `arguments`.\n",
    "\n",
    "- The code that runs when the function is called goes in the indented block after the `def` line.\n",
    "\n",
    "- Functions allow you to reuse code by bundling blocks of code under a name that you can \"call\" when needed.\n",
    "\n",
    "- Properly using functions is an important part of structuring Python programs for readability and organization.\n",
    "\n",
    "\n",
    "The most important points are that `def` defines a function, the function name follows conventions, and the function body is indented after `def`. Functions are key building blocks in Python."
   ]
  },
  {
   "cell_type": "markdown",
   "metadata": {},
   "source": [
    "Below, you'll find a few functions to calculate the area of different shapes. Each function requires one or two arguments. As you might remember from elementary math, to find the area of a rectangle, we need its length and width. For a circle, we need its radius, and for a triangle, we need its base and height. Play around with of length, width, and radius to get a feel of what these functions do."
   ]
  },
  {
   "cell_type": "code",
   "execution_count": 5,
   "metadata": {},
   "outputs": [
    {
     "name": "stdout",
     "output_type": "stream",
     "text": [
      "Rectangle Area: 50\n",
      "Circle Area: 28.27431\n",
      "Triangle Area: 12.0\n"
     ]
    }
   ],
   "source": [
    "# Shape Area Calculator\n",
    "def calculate_rectangle_area(length, width):\n",
    "    return length * width\n",
    "\n",
    "def calculate_circle_area(radius):\n",
    "    return 3.14159 * radius ** 2\n",
    "\n",
    "def calculate_triangle_area(base, height):\n",
    "    return 0.5 * base * height\n",
    "\n",
    "# Test the functions\n",
    "rectangle_area = calculate_rectangle_area(5, 10)\n",
    "circle_area = calculate_circle_area(3)\n",
    "triangle_area = calculate_triangle_area(4, 6)\n",
    "\n",
    "print(\"Rectangle Area:\", rectangle_area)\n",
    "print(\"Circle Area:\", circle_area)\n",
    "print(\"Triangle Area:\", triangle_area)"
   ]
  },
  {
   "cell_type": "markdown",
   "metadata": {},
   "source": [
    "#### Modules\n",
    "\n",
    "Modules are like versatile toolboxes, each containing useful functions and goodies! They play a vital role in organizing related functions and code together, just like a well-organized workshop. Modules act as building blocks for structuring larger Python programs.\n",
    "\n",
    "To demonstrate how modules work, we can take the functions we created earlier for calculating the area of various shapes and move them into a separate file with a .py extension. Once done, we can easily utilize these functions in our code and enjoy the benefits of a well-structured and modular Python program.\n",
    "\n",
    "Interactive Exercise:\n",
    "\n",
    "Suppose you saved script that houses the functios as `shape_calculator.py`, you can simply use in another script by importing it with the `import` keyword like so:\n",
    "\n",
    "```python \n",
    "# Using the Shape Calculator Module\n",
    "import shape_calculator\n",
    "\n",
    "rectangle_area = shape_calculator.calculate_rectangle_area(5, 10)\n",
    "circle_area = shape_calculator.calculate_circle_area(3)\n",
    "triangle_area = shape_calculator.calculate_triangle_area(4, 6)\n",
    "\n",
    "print(\"Rectangle Area:\", rectangle_area)\n",
    "print(\"Circle Area:\", circle_area)\n",
    "print(\"Triangle Area:\", triangle_area)\n",
    "```\n",
    "\n",
    "Now run the new script and see how easy it is to resuse code in python!"
   ]
  },
  {
   "cell_type": "markdown",
   "metadata": {},
   "source": []
  }
 ],
 "metadata": {
  "kernelspec": {
   "display_name": "datasynth_dev",
   "language": "python",
   "name": "python3"
  },
  "language_info": {
   "codemirror_mode": {
    "name": "ipython",
    "version": 3
   },
   "file_extension": ".py",
   "mimetype": "text/x-python",
   "name": "python",
   "nbconvert_exporter": "python",
   "pygments_lexer": "ipython3",
   "version": "3.10.8"
  },
  "orig_nbformat": 4
 },
 "nbformat": 4,
 "nbformat_minor": 2
}
