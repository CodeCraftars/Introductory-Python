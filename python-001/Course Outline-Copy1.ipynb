{
 "cells": [
  {
   "cell_type": "markdown",
   "id": "66bc2792",
   "metadata": {},
   "source": [
    "# Introduction to python\n",
    "\n",
    "### Content\n",
    "\n",
    "* [What is Python?](#what-is-python)\n",
    "* [Why learn Python?](#why-learn-python)\n",
    "* [Writing your first Python program](#writing-your-first-python-program)\n",
    "* [Variables and data types](#variables-and-data-types)\n",
    "* [Operators and expressions](#operators-and-expressions)\n",
    "* [Control flow statements](#control-flow-statements)\n",
    "* [Functions and modules](#functions-and-modules)"
   ]
  },
  {
   "cell_type": "markdown",
   "id": "baa5a349",
   "metadata": {},
   "source": [
    "### What is Python?\n",
    "\n",
    "Python is a high-level, interpreted, and general-purpose programming language. It was created in the late 1980s by Guido van Rossum and released in 1991. One of Python's main strengths is its simplicity and readability, making it an excellent choice for beginners and experienced developers alike.\n",
    "\n",
    "**Key Points:**\n",
    "\n",
    "1. **High-level language:** Python abstracts away many low-level details, making it easier for programmers to focus on solving problems rather than worrying about system-specific implementation details.\n",
    "\n",
    "2. **Interpreted:** Python is an interpreted language, meaning that you don't need to compile your code before running it. Instead, the Python interpreter reads and executes the code line by line, making the development process faster and more interactive.\n",
    "\n",
    "3. **General-purpose:** Python is a versatile language and can be used to create a wide range of applications, including web development, data analysis, scientific computing, artificial intelligence, automation, and more.\n",
    "\n",
    "4. **Simplicity and Readability:** Python emphasizes readability and a clean, straightforward syntax, using indentation to define code blocks instead of relying on curly braces or keywords. This readability makes it easier for beginners to understand and write code.\n",
    "\n",
    "5. **Open-source:** Python is an open-source language, which means the Python interpreter and standard library are freely available and can be distributed, modified, and used by anyone.\n",
    "\n",
    "6. **Large Standard Library:** Python comes with a comprehensive standard library, offering a wide range of modules and functions that help simplify common tasks and reduce the need for writing code from scratch.\n",
    "\n",
    "7. **Dynamic Typing:** Python is dynamically typed, meaning variable types are determined at runtime. This allows for more flexibility in programming but requires attention to data types to avoid potential issues."
   ]
  },
  {
   "cell_type": "markdown",
   "id": "76aa08c0",
   "metadata": {},
   "source": [
    "### Why learn Python\n",
    "\n",
    "Python has gained immense popularity due to its beginner-friendliness and wide range of applications. Some reasons why Python is an excellent choice for beginners are:\n",
    "\n",
    "1. **Easy to Learn**: Python's simple and intuitive syntax makes it easy to pick up, even for people with little or no programming experience.\n",
    "\n",
    "2. **Versatile**: As a general-purpose language, Python can be used for various tasks, so learning Python opens up numerous career opportunities.\n",
    "\n",
    "3. **Active Community:** Python has a vast and supportive community of developers who contribute libraries, frameworks, and resources that make coding tasks more accessible.\n",
    "\n",
    "4. **Employer Demand**: Python is highly sought after in the job market, and its popularity continues to grow in various industries, including tech, finance, data science, and academia.\n",
    "\n",
    "5. **Great for Prototyping**: Python's quick development cycle and readable code make it ideal for prototyping and experimenting with new ideas.\n",
    "\n",
    "Overall, Python is an excellent choice for beginners who want to learn programming and develop real-world applications. Its readability, versatility, and active community make it a powerful tool for tackling a wide range of projects from simple scripts to complex software applications.\n"
   ]
  },
  {
   "cell_type": "markdown",
   "id": "1be798fb",
   "metadata": {},
   "source": [
    "### Writing your first Python program\n",
    "\n",
    "Bet you guys are familiar with the \"hello world\" program as being one that is commonly taught as the first program beginners should write... we do not think it is motivating enough so we'd rather have you guys write a program that computes the area of a rectangle. \n",
    "\n"
   ]
  },
  {
   "cell_type": "code",
   "execution_count": 1,
   "id": "ed109b7a",
   "metadata": {},
   "outputs": [],
   "source": [
    "def area_of_rectangle():\n",
    "    length = float(input('input length of rectangle:'))\n",
    "    width = float(input('input breadth of rectangle:'))\n",
    "\n",
    "    return length*width"
   ]
  },
  {
   "cell_type": "markdown",
   "id": "8abc0799",
   "metadata": {},
   "source": [
    "What happens when you run this block of code:\n",
    "\n",
    "When you run the program, it will ask you to enter the length and width of the rectangle. Type in the values and press \"Enter.\" The program will then calculate the area of the rectangle and display the result.\n",
    "\n",
    "Explanation:\n",
    "\n",
    "We use the `input()` function to get user input for the length and width of the rectangle. The `float()` function is used to convert the user's input (which is a string) into floating-point numbers (decimal numbers) so that we can perform calculations.\n",
    "\n",
    "Next, we calculate the area of the rectangle by multiplying the length and width. We store the result in the variable area.\n",
    "\n",
    "Finally, we use the `print()` function to display the calculated area to the user.\n",
    "\n",
    "Experiment and Learn:\n",
    "\n",
    "You can experiment with the program by entering different values for the length and width of the rectangle. Observe how the program calculates the area each time and displays the result. As you become more comfortable with Python, you can try adding more features to the program or even build more complex applications.\n",
    "\n",
    "Remember, the journey of learning to code starts with simple steps. By understanding this example, you've already taken the first step into the exciting world of programming. Happy coding!"
   ]
  },
  {
   "cell_type": "markdown",
   "id": "d488a681",
   "metadata": {},
   "source": [
    "### Variables and data types\n",
    "\n",
    "In Python, data types help us understand what kind of information we are working with. Imagine data types as different categories that hold specific types of data. Just like we sort our clothes into different drawers (socks in one, shirts in another), Python organizes data into these categories to handle them in a better way.\n",
    "\n",
    "#### 1. Numbers:\n",
    "\n",
    "Numbers are used to represent different quantities in Python. We have two main types of numbers:\n",
    "\n",
    "- Whole numbers are called `integers`. They represent things like your age or the number of pets you have."
   ]
  },
  {
   "cell_type": "code",
   "execution_count": 21,
   "id": "907c950e",
   "metadata": {},
   "outputs": [],
   "source": [
    "age = 25 # integer data type"
   ]
  },
  {
   "cell_type": "markdown",
   "id": "1d1b38b0",
   "metadata": {},
   "source": [
    "-  Numbers with decimal points are called `floats`. They represent things like your weight or the temperature outside.\n"
   ]
  },
  {
   "cell_type": "code",
   "execution_count": 22,
   "id": "f5446c86",
   "metadata": {},
   "outputs": [],
   "source": [
    "pi = 3.14  # float data type`"
   ]
  },
  {
   "cell_type": "markdown",
   "id": "7e64499c",
   "metadata": {},
   "source": [
    "#### 2. Text\n",
    "\n",
    "Text is used to represent words or sentences. In Python, we call this data type `strings`. You can think of `strings` as a sequence of characters, like a bunch of letters or words put together."
   ]
  },
  {
   "cell_type": "code",
   "execution_count": 31,
   "id": "57b61031",
   "metadata": {},
   "outputs": [],
   "source": [
    "name = \"Alice\"  # str data type\n",
    "greetings = \"Hello, World!\"  # str data type\n"
   ]
  },
  {
   "cell_type": "markdown",
   "id": "d3a6b41f",
   "metadata": {},
   "source": [
    "#### 3. True or False:\n",
    "\n",
    "In Python, we have a special data type called `boolean`. It only has two possible values: `True` or `False`. Booleans are used when we want to make decisions or check if something is true or false."
   ]
  },
  {
   "cell_type": "code",
   "execution_count": 29,
   "id": "02fa7e4e",
   "metadata": {},
   "outputs": [],
   "source": [
    "is_student = True   # Here, is_student is a boolean data type\n",
    "has_license = False"
   ]
  },
  {
   "cell_type": "markdown",
   "id": "10b14d0a",
   "metadata": {},
   "source": [
    "#### 4. Collections:\n",
    "\n",
    "Sometimes, we need to group multiple pieces of data together. Python has a few collection data types for that:\n",
    "\n",
    "- Lists: Lists are like containers that can hold various items in a specific order. They are like your shopping list, where you have many items in one place. Example:"
   ]
  },
  {
   "cell_type": "code",
   "execution_count": 30,
   "id": "e7a2cc76",
   "metadata": {},
   "outputs": [],
   "source": [
    "numbers = [1, 2, 3, 4, 5]   # Here, numbers is a list data type\n",
    "fruits = [\"apple\", \"banana\", \"cherry\"]"
   ]
  },
  {
   "cell_type": "markdown",
   "id": "9bfc1612",
   "metadata": {},
   "source": [
    "- Tuples: Tuples are similar to lists but cannot be changed once created, meaning they are immutable. Think of them like a fixed set of items."
   ]
  },
  {
   "cell_type": "code",
   "execution_count": 26,
   "id": "b4c9311d",
   "metadata": {},
   "outputs": [],
   "source": [
    "coordinates = (10, 20)   # Here, coordinates is a tuple data type\n",
    "colors = (\"red\", \"green\", \"blue\")"
   ]
  },
  {
   "cell_type": "markdown",
   "id": "6843ea53",
   "metadata": {},
   "source": [
    "- Dictionaries: Dictionaries are like real-life dictionaries where you have a word (key) and its meaning (value) associated with it."
   ]
  },
  {
   "cell_type": "code",
   "execution_count": 27,
   "id": "8c64b41f",
   "metadata": {},
   "outputs": [],
   "source": [
    "person = {\"name\": \"John\", \"age\": 30}   # Here, person is a dictionary data type\n",
    "grades = {\"math\": 95, \"english\": 85, \"science\": 92}"
   ]
  },
  {
   "cell_type": "markdown",
   "id": "edd5b2c4",
   "metadata": {},
   "source": [
    "- Sets: Sets are collections of unique items, meaning each item appears only once."
   ]
  },
  {
   "cell_type": "code",
   "execution_count": 28,
   "id": "58b998e2",
   "metadata": {},
   "outputs": [],
   "source": [
    "numbers_set = {1, 2, 3, 4, 5}   # Here, numbers_set is a set data type\n",
    "unique_letters = {\"a\", \"b\", \"c\"}"
   ]
  },
  {
   "cell_type": "markdown",
   "id": "451a51d3",
   "metadata": {},
   "source": [
    "Data types in Python are like categories that help us understand and manage different types of information. By learning about these data types, you'll be better equipped to work with data, make decisions, and build exciting programs as you continue your Python journey. "
   ]
  },
  {
   "cell_type": "markdown",
   "id": "49e36fc4",
   "metadata": {},
   "source": [
    "### Operators and expressions\n",
    "\n",
    "___What Are Operators?___\n",
    "\n",
    "Operators in Python are like magical symbols that allow you to perform various mathematical and logical operations. Just like a wizard casting spells, you can use operators to manipulate numbers, combine text, and even make important decisions in your code!\n",
    "\n",
    "Some common operators in python are:\n",
    "\n",
    "Arithmetic Operators:\n",
    "- **+** (Addition): Combine two numbers together to get their sum.\n",
    "- **-** (Subtraction): Subtract one number from another.\n",
    "- __*__ (Multiplication): Multiply two numbers to get their product.\n",
    "- **/** (Division): Divide one number by another to get the result.\n",
    "- **%** (Modulo): Get the remainder after division.\n",
    "\n",
    "We can play around with these operators to see how they actually work"
   ]
  },
  {
   "cell_type": "code",
   "execution_count": 1,
   "id": "cbc9ddc7",
   "metadata": {},
   "outputs": [
    {
     "name": "stdout",
     "output_type": "stream",
     "text": [
      "Sum: 13\n",
      "Subtraction: 7\n",
      "Multiplication: 30\n",
      "Division: 3.3333333333333335\n",
      "Modulo: 1\n"
     ]
    }
   ],
   "source": [
    "# Magic Math!\n",
    "num1 = 10\n",
    "num2 = 3\n",
    "\n",
    "sum_result = num1 + num2 # Addition\n",
    "sub_result = num1 - num2 # Subtraction\n",
    "mul_result = num1 * num2 # Multiplication\n",
    "div_result = num1 / num2 # Division\n",
    "mod_result = num1 % num2 # Modulo Division\n",
    "\n",
    "print(\"Sum:\", sum_result)\n",
    "print(\"Subtraction:\", sub_result)\n",
    "print(\"Multiplication:\", mul_result)\n",
    "print(\"Division:\", div_result)\n",
    "print(\"Modulo:\", mod_result)"
   ]
  },
  {
   "cell_type": "markdown",
   "id": "4fb064f3",
   "metadata": {},
   "source": [
    "__Logical Operators__:\n",
    "\n",
    "But wait, there's more magic! 🎩 Logical operators allow you to make decisions and create magical conditions in your code:\n",
    "\n",
    "- `and`: Combines two conditions, and both must be True for the result to be True.\n",
    "- `or`: Combines two conditions, and either one being True will result in the overall expression being True.\n",
    "- `not`: Reverses the truth value of a condition.\n",
    "\n",
    "Now, let's create a spellbinding logical expression! "
   ]
  },
  {
   "cell_type": "code",
   "execution_count": 2,
   "id": "ad7db10f",
   "metadata": {},
   "outputs": [
    {
     "name": "stdout",
     "output_type": "stream",
     "text": [
      "Spell Result: True\n"
     ]
    }
   ],
   "source": [
    "# Mystical Logical Expression!\n",
    "is_magician = True\n",
    "has_wand = False\n",
    "\n",
    "spell_result = is_magician and not has_wand\n",
    "\n",
    "print(\"Spell Result:\", spell_result)\n",
    "\n",
    "# TODO: try variants of logical expressions"
   ]
  },
  {
   "cell_type": "markdown",
   "id": "a3c6a767",
   "metadata": {},
   "source": [
    "___What Are Expressions?___\n",
    "\n",
    "Expressions are like enchanting puzzles for Python to solve! They are combinations of values, variables, and operators that produce a result. Just like a riddle, Python will decode your expressions to give you the answers you seek.\n",
    "\n",
    "Like the previous example, we can create expressions and have python execute them for us:"
   ]
  },
  {
   "cell_type": "code",
   "execution_count": 35,
   "id": "b447bca1",
   "metadata": {},
   "outputs": [
    {
     "name": "stdout",
     "output_type": "stream",
     "text": [
      "Expression 1 Result: 11\n",
      "Expression 2 Result: 21\n",
      "Expression 3 Result: 25\n"
     ]
    }
   ],
   "source": [
    "# Enchanting Expressions!\n",
    "x = 5\n",
    "y = 2\n",
    "\n",
    "expression1 = x + y * 3  # What will this expression evaluate to?\n",
    "expression2 = (x + y) * 3  # And what about this one?\n",
    "expression3 = x ** y  # How about this magical power of exponentiation?\n",
    "\n",
    "print(\"Expression 1 Result:\", expression1)\n",
    "print(\"Expression 2 Result:\", expression2)\n",
    "print(\"Expression 3 Result:\", expression3)"
   ]
  },
  {
   "cell_type": "markdown",
   "id": "f1b64edb",
   "metadata": {},
   "source": []
  },
  {
   "cell_type": "markdown",
   "id": "21d768a5",
   "metadata": {},
   "source": [
    "### Control flow statements\n",
    "\n",
    "What are Control Flow Statements?\n",
    "\n",
    "Control flow statements are like guiding signposts that enable your Python code to make decisions, repeat actions, and adapt to different situations. Think of them as the compass that steers your code's path, allowing it to choose the best course of action based on specific conditions.\n",
    "\n",
    "__1. The Trusty IF Statement__:\n",
    "\n",
    "The `if` statement is your loyal companion on this expedition. With this statement, you can execute specific code blocks only if a certain condition holds true. Otherwise, your code gracefully moves on to the next step, ensuring a smooth journey.\n",
    "\n",
    "INteractive Example:\n",
    "\n",
    "Imagine you are a daring adventurer searching for treasures. Let's write a Python code snippet using the IF statement to check if you encounter a locked treasure chest."
   ]
  },
  {
   "cell_type": "code",
   "execution_count": 5,
   "id": "2eb11b48",
   "metadata": {},
   "outputs": [
    {
     "name": "stdout",
     "output_type": "stream",
     "text": [
      "Oh no! The treasure chest is locked.\n",
      "Find the key to unlock the treasure!\n"
     ]
    }
   ],
   "source": [
    "is_tressure_chest_locked = True\n",
    "\n",
    "if is_tressure_chest_locked:\n",
    "    print(\"Oh no! The treasure chest is locked.\")\n",
    "    print(\"Find the key to unlock the treasure!\")\n",
    "else:\n",
    "    print(\"Congratulations! The treasure is yours to claim.\")"
   ]
  },
  {
   "cell_type": "markdown",
   "id": "c7b0f705",
   "metadata": {},
   "source": [
    "__2. The Resourceful ELSE Statement__: \n",
    "\n",
    "When the `if` condition is not met, fear not! The `else` statement comes to your rescue. This statement offers an alternative action to take, ensuring that your code continues its expedition.\n",
    "\n",
    "Interactive Example:\n",
    "\n",
    "Let's modify our treasure chest adventure code to include the ELSE statement. Type the following in your Python environment or create a Python file:"
   ]
  },
  {
   "cell_type": "code",
   "execution_count": 6,
   "id": "8248c114",
   "metadata": {},
   "outputs": [
    {
     "name": "stdout",
     "output_type": "stream",
     "text": [
      "Congratulations! The treasure is yours to claim.\n",
      "You've successfully conquered the treasure hunt.\n"
     ]
    }
   ],
   "source": [
    "is_treasure_chest_locked = False\n",
    "\n",
    "if is_treasure_chest_locked:\n",
    "    print(\"Oh no! The treasure chest is locked.\")\n",
    "    print(\"Find the key to unlock the treasure!\")\n",
    "else:\n",
    "    print(\"Congratulations! The treasure is yours to claim.\")\n",
    "    print(\"You've successfully conquered the treasure hunt.\")"
   ]
  },
  {
   "cell_type": "markdown",
   "id": "bd4a2979",
   "metadata": {},
   "source": [
    "__3. The Versatile ELIF Statement__:\n",
    "\n",
    "The `elif` (else if) statement empowers you with multiple choices. It allows your Python program to evaluate different conditions one by one and make decisions based on them.\n",
    "\n",
    "Interactive Exercise:\n",
    "\n",
    "Let's embark on a journey through enchanted doors with different symbols:"
   ]
  },
  {
   "cell_type": "code",
   "execution_count": 8,
   "id": "3dd34836",
   "metadata": {},
   "outputs": [
    {
     "name": "stdout",
     "output_type": "stream",
     "text": [
      "This mysterious door leads to an unknown realm.\n"
     ]
    }
   ],
   "source": [
    "# The Enchanted Door Adventure\n",
    "door_symbol = \"🔮\"\n",
    "\n",
    "if door_symbol == \"🔥\":\n",
    "    print(\"You've entered the Fire Realm!\")\n",
    "elif door_symbol == \"💧\":\n",
    "    print(\"Welcome to the Water Realm!\")\n",
    "elif door_symbol == \"🌳\":\n",
    "    print(\"You've arrived at the Earth Realm!\")\n",
    "else:\n",
    "    print(\"This mysterious door leads to an unknown realm.\")\n"
   ]
  },
  {
   "cell_type": "markdown",
   "id": "b682bc11",
   "metadata": {},
   "source": [
    "The IF, ELSE, and ELIF statements have equipped your code with the ability to make intelligent decisions and navigate diverse scenarios."
   ]
  },
  {
   "cell_type": "markdown",
   "id": "ca7f71a8",
   "metadata": {},
   "source": [
    "### Functions and modules\n",
    "\n",
    "__What are Functions?__\n",
    "\n",
    "Functions are like powerful tools in Python! They are blocks of code designed to perform specific tasks, enabling you to reuse code and keep your programs organized. Just like skilled craftsmen with a versatile toolkit, you can create functions to encapsulate powerful actions.\n",
    "\n",
    "Interactive Exercise:\n",
    "\n",
    "Let's create a Python function to calculate the area of different shapes. Imagine you are a master architect with a blueprint for magical structures. For this example, we are going to write the first script in a separate `.py` so we can reuse the function we are going to create when we talk about modules.\n",
    "\n",
    "\n",
    "```python\n",
    "# Shape Area Calculator\n",
    "def calculate_rectangle_area(length, width):\n",
    "    return length * width\n",
    "\n",
    "def calculate_circle_area(radius):\n",
    "    return 3.14159 * radius ** 2\n",
    "\n",
    "def calculate_triangle_area(base, height):\n",
    "    return 0.5 * base * height\n",
    "\n",
    "# Test the functions\n",
    "rectangle_area = calculate_rectangle_area(5, 10)\n",
    "circle_area = calculate_circle_area(3)\n",
    "triangle_area = calculate_triangle_area(4, 6)\n",
    "\n",
    "print(\"Rectangle Area:\", rectangle_area)\n",
    "print(\"Circle Area:\", circle_area)\n",
    "print(\"Triangle Area:\", triangle_area)\n",
    "\n",
    "\n",
    "```\n",
    "\n",
    "__What are Modules?__\n",
    "\n",
    "Modules are like versatile toolboxes, each filled with useful functions and goodies! They help you organize related functions and code together, just like a well-organized workshop. Modules are the building blocks for structuring larger Python programs.\n",
    "\n",
    "Interactive Exercise:\n",
    "\n",
    "Remember the previous step where we created certain functions for calculating the area of a triangle, circle, and rectangle? We can reuse those functions in a different script by simply importing those functions from its parent script.\n",
    "\n",
    "Suppose you saved script that houses the functios as `shape_calculator.py`, you can simply use in another script by importing it with the `import` keyword like so:\n",
    "\n",
    "```python \n",
    "# Using the Shape Calculator Module\n",
    "import shape_calculator\n",
    "\n",
    "rectangle_area = shape_calculator.calculate_rectangle_area(5, 10)\n",
    "circle_area = shape_calculator.calculate_circle_area(3)\n",
    "triangle_area = shape_calculator.calculate_triangle_area(4, 6)\n",
    "\n",
    "print(\"Rectangle Area:\", rectangle_area)\n",
    "print(\"Circle Area:\", circle_area)\n",
    "print(\"Triangle Area:\", triangle_area)\n",
    "```\n",
    "\n",
    "Now run the new script and see how easy it is to resuse code in python!"
   ]
  },
  {
   "cell_type": "markdown",
   "id": "7b8669b9",
   "metadata": {},
   "source": [
    "# Object-oriented programming\n",
    "\n",
    "### Content\n",
    "\n",
    "* [Classes and objects](#Classes-and-objects)\n",
    "* [Encapsulation](#encapsulation)\n",
    "* [Abstraction](#abstraction)\n",
    "* [Polymorphism](#polymorphism)\n",
    "* [Inheritance](#inheritance)\n",
    "\n",
    "\n",
    "# Classes and objects\n",
    "# Encapsulation\n",
    "# Abstraction\n",
    "# Polymorphism\n",
    "# Inheritance"
   ]
  },
  {
   "cell_type": "markdown",
   "id": "8b8859db",
   "metadata": {},
   "source": [
    "# Data structures\n",
    "\n",
    "### Content\n",
    "\n",
    "[Lists](#lists)\n",
    "[Tuples](#tuples)\n",
    "[Sets](#sets)\n",
    "[Dictionaries](#dictionaries)\n",
    "\n",
    "\n",
    "# Lists\n",
    "# Tuples\n",
    "# Sets\n",
    "# Dictionaries"
   ]
  },
  {
   "cell_type": "markdown",
   "id": "902ba5ba",
   "metadata": {},
   "source": [
    "\n",
    "# Algorithms\n",
    "\n",
    "### Content\n",
    "\n",
    "[Searching](#searching)\n",
    "\n",
    "[Sorting](#sorting)\n",
    "\n",
    "[String manipulation](#string-manipulation)\n",
    "\n",
    "[Mathematical operations](#mathematical-operations)"
   ]
  },
  {
   "cell_type": "markdown",
   "id": "ad7668be",
   "metadata": {},
   "source": [
    "# Machine learning\n",
    "\n",
    "### Content\n",
    "\n",
    "[Linear regression](#linear-regression)\n",
    "\n",
    "[Logistic regression](#logistic-regression)\n",
    "\n",
    "[Decision trees](#decision-trees)\n",
    "\n",
    "[Support vector machines](#support-vector-machines)\n",
    "\n",
    "[Neural networks](#neural-networks)"
   ]
  },
  {
   "cell_type": "code",
   "execution_count": null,
   "id": "ad9c4132",
   "metadata": {},
   "outputs": [],
   "source": []
  }
 ],
 "metadata": {
  "kernelspec": {
   "display_name": "Python 3 (ipykernel)",
   "language": "python",
   "name": "python3"
  },
  "language_info": {
   "codemirror_mode": {
    "name": "ipython",
    "version": 3
   },
   "file_extension": ".py",
   "mimetype": "text/x-python",
   "name": "python",
   "nbconvert_exporter": "python",
   "pygments_lexer": "ipython3",
   "version": "3.10.6"
  }
 },
 "nbformat": 4,
 "nbformat_minor": 5
}
